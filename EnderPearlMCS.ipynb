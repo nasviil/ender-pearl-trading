{
  "cells": [
    {
      "cell_type": "markdown",
      "metadata": {
        "id": "d-NuQsnNoMgL"
      },
      "source": [
        "## Ender Pearl Trade\n",
        "Monte Carlo Simulation \n",
        "Src: https://towardsdatascience.com/how-to-create-a-monte-carlo-simulation-using-python-c24634a0978a"
      ]
    },
    {
      "cell_type": "code",
      "execution_count": 497,
      "metadata": {
        "id": "JRY6PkRHo42K"
      },
      "outputs": [],
      "source": [
        "import numpy as np"
      ]
    },
    {
      "cell_type": "code",
      "execution_count": 498,
      "metadata": {},
      "outputs": [],
      "source": [
        "# Define constants\n",
        "ENDER_PEARL_PROBABILITY = 0.0218  # Probability of ender pearl trade\n",
        "NUM_SIMULATIONS = 1000  # Number of simulations\n",
        "NUM_TRADES = 253 # Number of gold ingots traded"
      ]
    },
    {
      "cell_type": "code",
      "execution_count": 499,
      "metadata": {
        "id": "PeQ8z3SOo7qu"
      },
      "outputs": [],
      "source": [
        "def simulate_trades():\n",
        "    ender_pearl_trades = 0\n",
        "    total_trades = 0\n",
        "    while ender_pearl_trades < 1:\n",
        "        total_trades += 1\n",
        "        if np.random.random() < ENDER_PEARL_PROBABILITY:\n",
        "            ender_pearl_trades += 1\n",
        "    return total_trades"
      ]
    },
    {
      "cell_type": "code",
      "execution_count": 500,
      "metadata": {},
      "outputs": [],
      "source": [
        "def simulate_4_trades():\n",
        "    ender_pearl_trades = 0\n",
        "    trade_number = 0\n",
        "    while ender_pearl_trades < 4:\n",
        "        trade_number += 1\n",
        "        if np.random.random() < ENDER_PEARL_PROBABILITY:\n",
        "            ender_pearl_trades += 1\n",
        "    return trade_number"
      ]
    },
    {
      "cell_type": "code",
      "execution_count": 501,
      "metadata": {},
      "outputs": [],
      "source": [
        "def simulate_complete_probability():\n",
        "    trade_count = 0\n",
        "    buffer = 0\n",
        "    success_trades = 0\n",
        "    complete_success = 0\n",
        "    while trade_count < NUM_TRADES:\n",
        "        trade_count += 1\n",
        "        if np.random.random() < ENDER_PEARL_PROBABILITY:\n",
        "            buffer += 1\n",
        "            success_trades += 1\n",
        "            if buffer == 4:  # Check if there's a set of 4 buffers\n",
        "                complete_success += 1\n",
        "                buffer = 0  # Reset buffer after successful trade\n",
        "    return complete_success"
      ]
    },
    {
      "cell_type": "code",
      "execution_count": 502,
      "metadata": {},
      "outputs": [],
      "source": [
        "def simulate_trade_probability():\n",
        "    trade_count = 0\n",
        "    success_trades = 0\n",
        "    while trade_count < NUM_TRADES:\n",
        "        trade_count += 1\n",
        "        if np.random.random() < ENDER_PEARL_PROBABILITY:\n",
        "            success_trades += 1\n",
        "    return success_trades"
      ]
    },
    {
      "cell_type": "code",
      "execution_count": 503,
      "metadata": {
        "id": "Rw7o4AXXpBHT"
      },
      "outputs": [],
      "source": [
        "# Simulate trades\n",
        "trade_results = [simulate_trades() for _ in range(NUM_SIMULATIONS)]\n",
        "trade_number = [simulate_4_trades() for _ in range(NUM_SIMULATIONS)]\n",
        "complete_probability = [simulate_complete_probability() for _ in range(NUM_SIMULATIONS)]\n",
        "trade_probability = [simulate_trade_probability() for _ in range(NUM_SIMULATIONS)]"
      ]
    },
    {
      "cell_type": "code",
      "execution_count": 504,
      "metadata": {},
      "outputs": [
        {
          "name": "stdout",
          "output_type": "stream",
          "text": [
            "Average number of trades to get an ender pearl trade: 45.88\n",
            "Average number of trades to get a complete trade (4 ender pearl trades): 184.559\n",
            "Average number of pearl trades in 253 trades: 5.565\n",
            "Probability of a pearl trade: 0.02199604743083004\n",
            "Average number of complete trade(4 ender pearl trades) in 253 trades: 1.013\n",
            "Probability of a complete trade: 0.00400395256916996\n"
          ]
        }
      ],
      "source": [
        "# Analyze results\n",
        "average_trades = np.mean(trade_results)\n",
        "average_trade_number = np.mean(trade_number)\n",
        "pearl_trade_number = np.mean(trade_probability)\n",
        "pearl_probability = np.mean(trade_probability)/NUM_TRADES\n",
        "complete_trade_number = np.mean(complete_probability)\n",
        "comp_trade_probability = np.mean(complete_probability)/NUM_TRADES\n",
        "print(\"Average number of trades to get an ender pearl trade:\", average_trades)\n",
        "print(\"Average number of trades to get a complete trade (4 ender pearl trades):\", average_trade_number)\n",
        "print(\"Average number of pearl trades in\",NUM_TRADES,\"trades:\",pearl_trade_number)\n",
        "print(\"Probability of a pearl trade:\", pearl_probability)\n",
        "print(\"Average number of complete trade(4 ender pearl trades) in\", NUM_TRADES,\"trades:\", complete_trade_number)\n",
        "print(\"Probability of a complete trade:\",comp_trade_probability)"
      ]
    }
  ],
  "metadata": {
    "colab": {
      "provenance": []
    },
    "kernelspec": {
      "display_name": "Python 3",
      "name": "python3"
    },
    "language_info": {
      "codemirror_mode": {
        "name": "ipython",
        "version": 3
      },
      "file_extension": ".py",
      "mimetype": "text/x-python",
      "name": "python",
      "nbconvert_exporter": "python",
      "pygments_lexer": "ipython3",
      "version": "3.12.3"
    }
  },
  "nbformat": 4,
  "nbformat_minor": 0
}
